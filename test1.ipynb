{
 "cells": [
  {
   "cell_type": "code",
   "execution_count": 81,
   "id": "c00d43ca-0cd0-41d7-b3b5-d2d94be6d297",
   "metadata": {},
   "outputs": [
    {
     "name": "stdout",
     "output_type": "stream",
     "text": [
      "    mpg  cylinders  displacement  horsepower  weight  acceleration  \\\n",
      "0  18.0          8         307.0       130.0    3504          12.0   \n",
      "1  15.0          8         350.0       165.0    3693          11.5   \n",
      "2  18.0          8         318.0       150.0    3436          11.0   \n",
      "3  16.0          8         304.0       150.0    3433          12.0   \n",
      "4  17.0          8         302.0       140.0    3449          10.5   \n",
      "\n",
      "   model-year origin                       name  \n",
      "0          70    usa  chevrolet chevelle malibu  \n",
      "1          70    usa          buick skylark 320  \n",
      "2          70    usa         plymouth satellite  \n",
      "3          70    usa              amc rebel sst  \n",
      "4          70    usa                ford torino  \n"
     ]
    }
   ],
   "source": [
    "import pandas as pd\n",
    "df=pd.read_csv(\"D:\\\\kaveri\\\\auto-mpg.csv\")\n",
    "print(df.head())"
   ]
  },
  {
   "cell_type": "code",
   "execution_count": 6,
   "id": "5ddd70da-b841-4d50-b00c-a41eb3ce59c0",
   "metadata": {},
   "outputs": [
    {
     "name": "stdout",
     "output_type": "stream",
     "text": [
      "statisicle details               mpg   cylinders  displacement  horsepower       weight  \\\n",
      "count  398.000000  398.000000    398.000000  396.000000   398.000000   \n",
      "mean    23.514573    5.454774    193.425879  104.189394  2970.424623   \n",
      "std      7.815984    1.701004    104.269838   38.402030   846.841774   \n",
      "min      9.000000    3.000000     68.000000   46.000000  1613.000000   \n",
      "25%     17.500000    4.000000    104.250000   75.000000  2223.750000   \n",
      "50%     23.000000    4.000000    148.500000   92.000000  2803.500000   \n",
      "75%     29.000000    8.000000    262.000000  125.000000  3608.000000   \n",
      "max     46.600000    8.000000    455.000000  230.000000  5140.000000   \n",
      "\n",
      "       acceleration  model-year  \n",
      "count    398.000000  398.000000  \n",
      "mean      15.568090   76.010050  \n",
      "std        2.757689    3.697627  \n",
      "min        8.000000   70.000000  \n",
      "25%       13.825000   73.000000  \n",
      "50%       15.500000   76.000000  \n",
      "75%       17.175000   79.000000  \n",
      "max       24.800000   82.000000  \n"
     ]
    }
   ],
   "source": [
    "v=df.describe()\n",
    "#statisticale data\n",
    "print(\"statisicle details\",v)"
   ]
  },
  {
   "cell_type": "code",
   "execution_count": 108,
   "id": "d3a7de2c-addc-4789-b6a7-3339e5df46b0",
   "metadata": {},
   "outputs": [
    {
     "name": "stdout",
     "output_type": "stream",
     "text": [
      " cylinders:\n",
      "    mpg  cylinders  displacement  horsepower  weigth  acceleration  model year  \\\n",
      "0   18          8           307         130    3504          12.0          70   \n",
      "1   15          8           350         165    3693          11.5          71   \n",
      "4   17          8           302         140    3449          10.5          70   \n",
      "\n",
      "   origin   car name  \n",
      "0       1  cheverlot  \n",
      "1       1      buick  \n",
      "4       1       ford  \n"
     ]
    }
   ],
   "source": [
    "import pandas as pd\n",
    "da={\n",
    "\"mpg\":[18,15,18,16,17],\n",
    "\"cylinders\":[8,8,6,4,8],\n",
    "\"displacement\":[307,350,318,304,302],\n",
    "\"horsepower\":[130,165,150,150,140],\n",
    "\"weigth\":[3504,3693,3436,3433,3449],\n",
    "\"acceleration\":[12.0,11.5,11.0,12.0,10.5],\n",
    "\"model year\":[70,71,70,80,70],\n",
    "\"origin\":[1,1,1,1,1],\n",
    "\"car name\":[\"cheverlot\",\"buick\",\"plymoth\",\"amc\",\"ford\"]\n",
    "}  \n",
    "df=pd.DataFrame(da)\n",
    "ta=df[df[\"cylinders\"]==8]\n",
    "ye = df.groupby('model year')[\"model year\"].count()\n",
    "print(\" cylinders:\\n\",ye)\n"
   ]
  },
  {
   "cell_type": "code",
   "execution_count": 107,
   "id": "814c2d42-ec10-4a2f-a4da-9efd4a307f19",
   "metadata": {},
   "outputs": [
    {
     "name": "stdout",
     "output_type": "stream",
     "text": [
      "\n",
      "model- year:\n",
      " model year\n",
      "70    3\n",
      "71    1\n",
      "80    1\n",
      "Name: model year, dtype: int64\n"
     ]
    }
   ],
   "source": [
    "#import pandas as pd\n",
    "#df=pd.read_csv(\"D:\\\\kaveri\\\\auto-mpg.csv\")\n",
    "#ye = df.groupby('model-year')[\"model-year\"].count()\n",
    "#print(ye)\n",
    "import pandas as pd\n",
    "da={\n",
    "\"mpg\":[18,15,18,16,17],\n",
    "\"cylinders\":[8,8,6,4,8],\n",
    "\"displacement\":[307,350,318,304,302],\n",
    "\"horsepower\":[130,165,150,150,140],\n",
    "\"weigth\":[3504,3693,3436,3433,3449],\n",
    "\"acceleration\":[12.0,11.5,11.0,12.0,10.5],\n",
    "\"model year\":[70,71,70,80,70],\n",
    "\"origin\":[1,1,1,1,1],\n",
    "\"car name\":[\"cheverlot\",\"buick\",\"plymoth\",\"amc\",\"ford\"]\n",
    "}  \n",
    "ye = df.groupby('model year')[\"model year\"].count()\n",
    "print(\"\\nmodel- year:\\n\",ye)"
   ]
  },
  {
   "cell_type": "code",
   "execution_count": 14,
   "id": "247a0299-838d-4492-b648-1bc431bfd653",
   "metadata": {},
   "outputs": [
    {
     "data": {
      "text/html": [
       "<div>\n",
       "<style scoped>\n",
       "    .dataframe tbody tr th:only-of-type {\n",
       "        vertical-align: middle;\n",
       "    }\n",
       "\n",
       "    .dataframe tbody tr th {\n",
       "        vertical-align: top;\n",
       "    }\n",
       "\n",
       "    .dataframe thead th {\n",
       "        text-align: right;\n",
       "    }\n",
       "</style>\n",
       "<table border=\"1\" class=\"dataframe\">\n",
       "  <thead>\n",
       "    <tr style=\"text-align: right;\">\n",
       "      <th></th>\n",
       "      <th>model</th>\n",
       "      <th>mpg</th>\n",
       "      <th>cyl</th>\n",
       "      <th>disp</th>\n",
       "      <th>hp</th>\n",
       "      <th>drat</th>\n",
       "      <th>wt</th>\n",
       "      <th>qsec</th>\n",
       "      <th>vs</th>\n",
       "      <th>am</th>\n",
       "      <th>gear</th>\n",
       "      <th>carb</th>\n",
       "    </tr>\n",
       "  </thead>\n",
       "  <tbody>\n",
       "    <tr>\n",
       "      <th>0</th>\n",
       "      <td>Mazda RX4</td>\n",
       "      <td>21.0</td>\n",
       "      <td>6</td>\n",
       "      <td>160.0</td>\n",
       "      <td>110</td>\n",
       "      <td>3.90</td>\n",
       "      <td>2.620</td>\n",
       "      <td>16.46</td>\n",
       "      <td>0</td>\n",
       "      <td>1</td>\n",
       "      <td>4</td>\n",
       "      <td>4</td>\n",
       "    </tr>\n",
       "    <tr>\n",
       "      <th>1</th>\n",
       "      <td>Mazda RX4 Wag</td>\n",
       "      <td>21.0</td>\n",
       "      <td>6</td>\n",
       "      <td>160.0</td>\n",
       "      <td>110</td>\n",
       "      <td>3.90</td>\n",
       "      <td>2.875</td>\n",
       "      <td>17.02</td>\n",
       "      <td>0</td>\n",
       "      <td>1</td>\n",
       "      <td>4</td>\n",
       "      <td>4</td>\n",
       "    </tr>\n",
       "    <tr>\n",
       "      <th>2</th>\n",
       "      <td>Datsun 710</td>\n",
       "      <td>22.8</td>\n",
       "      <td>4</td>\n",
       "      <td>108.0</td>\n",
       "      <td>93</td>\n",
       "      <td>3.85</td>\n",
       "      <td>2.320</td>\n",
       "      <td>18.61</td>\n",
       "      <td>1</td>\n",
       "      <td>1</td>\n",
       "      <td>4</td>\n",
       "      <td>1</td>\n",
       "    </tr>\n",
       "    <tr>\n",
       "      <th>3</th>\n",
       "      <td>Hornet 4 Drive</td>\n",
       "      <td>21.4</td>\n",
       "      <td>6</td>\n",
       "      <td>258.0</td>\n",
       "      <td>110</td>\n",
       "      <td>3.08</td>\n",
       "      <td>3.215</td>\n",
       "      <td>19.44</td>\n",
       "      <td>1</td>\n",
       "      <td>0</td>\n",
       "      <td>3</td>\n",
       "      <td>1</td>\n",
       "    </tr>\n",
       "    <tr>\n",
       "      <th>4</th>\n",
       "      <td>Hornet Sportabout</td>\n",
       "      <td>18.7</td>\n",
       "      <td>8</td>\n",
       "      <td>360.0</td>\n",
       "      <td>175</td>\n",
       "      <td>3.15</td>\n",
       "      <td>3.440</td>\n",
       "      <td>17.02</td>\n",
       "      <td>0</td>\n",
       "      <td>0</td>\n",
       "      <td>3</td>\n",
       "      <td>2</td>\n",
       "    </tr>\n",
       "  </tbody>\n",
       "</table>\n",
       "</div>"
      ],
      "text/plain": [
       "               model   mpg  cyl   disp   hp  drat     wt   qsec  vs  am  gear  \\\n",
       "0          Mazda RX4  21.0    6  160.0  110  3.90  2.620  16.46   0   1     4   \n",
       "1      Mazda RX4 Wag  21.0    6  160.0  110  3.90  2.875  17.02   0   1     4   \n",
       "2         Datsun 710  22.8    4  108.0   93  3.85  2.320  18.61   1   1     4   \n",
       "3     Hornet 4 Drive  21.4    6  258.0  110  3.08  3.215  19.44   1   0     3   \n",
       "4  Hornet Sportabout  18.7    8  360.0  175  3.15  3.440  17.02   0   0     3   \n",
       "\n",
       "   carb  \n",
       "0     4  \n",
       "1     4  \n",
       "2     1  \n",
       "3     1  \n",
       "4     2  "
      ]
     },
     "execution_count": 14,
     "metadata": {},
     "output_type": "execute_result"
    }
   ],
   "source": [
    "# 3b\n",
    "import pandas as pd\n",
    "from matplotlib import pyplot as plt\n",
    "import seaborn as sns\n",
    "#histogram\n",
    "df=pd.read_csv(\"D:\\\\kaveri\\\\mtcars.csv\")\n",
    "df.head()\n"
   ]
  },
  {
   "cell_type": "code",
   "execution_count": 19,
   "id": "b855036b-37d2-4bf1-b134-15abb737789b",
   "metadata": {},
   "outputs": [
    {
     "data": {
      "image/png": "[encoded data removed]",
      "text/plain": [
       "<Figure size 640x480 with 1 Axes>"
      ]
     },
     "metadata": {},
     "output_type": "display_data"
    }
   ],
   "source": [
    "mpg=df[\"mpg\"]\n",
    "plt.hist(mpg,color='b',edgecolor='k')\n",
    "plt.xlabel(\"mpg\")\n",
    "plt.ylabel(\"frequency\")\n",
    "plt.title(\"Frequncy distrubution\")\n",
    "plt.show()"
   ]
  },
  {
   "cell_type": "code",
   "execution_count": 95,
   "id": "a91632f3-0c76-4d4b-a522-e8a4a99f5a5c",
   "metadata": {},
   "outputs": [
    {
     "name": "stdout",
     "output_type": "stream",
     "text": [
      "               model   mpg  cyl   disp   hp  drat     wt   qsec  vs  am  gear  \\\n",
      "0          Mazda RX4  21.0    6  160.0  110  3.90  2.620  16.46   0   1     4   \n",
      "1      Mazda RX4 Wag  21.0    6  160.0  110  3.90  2.875  17.02   0   1     4   \n",
      "2         Datsun 710  22.8    4  108.0   93  3.85  2.320  18.61   1   1     4   \n",
      "3     Hornet 4 Drive  21.4    6  258.0  110  3.08  3.215  19.44   1   0     3   \n",
      "4  Hornet Sportabout  18.7    8  360.0  175  3.15  3.440  17.02   0   0     3   \n",
      "\n",
      "   carb  \n",
      "0     4  \n",
      "1     4  \n",
      "2     1  \n",
      "3     1  \n",
      "4     2  \n"
     ]
    },
    {
     "data": {
      "image/png": "[encoded data removed]",
      "text/plain": [
       "<Figure size 640x480 with 1 Axes>"
      ]
     },
     "metadata": {},
     "output_type": "display_data"
    }
   ],
   "source": [
    "import pandas as pd\n",
    "from matplotlib import pyplot as plt\n",
    "data=pd.read_csv(\"D:\\\\kaveri\\\\mtcars.csv\")\n",
    "#scatterplot\n",
    "print(data.head())\n",
    "mpg=data['mpg']\n",
    "wgt=data['wt']\n",
    "iv=range(len(data))\n",
    "plt.scatter(iv,wgt,color='k',label='mpg')\n",
    "plt.scatter(iv,mpg,color='b',label='wt')\n",
    "plt.legend()\n",
    "plt.xlabel(\"mpg\")\n",
    "plt.ylabel(\"frequency\")\n",
    "plt.title(\"Relationship b/w Weigth and MPG\")\n",
    "plt.show()"
   ]
  },
  {
   "cell_type": "code",
   "execution_count": 31,
   "id": "d61378b5-a32e-45bd-8d00-bfe47aa26d3a",
   "metadata": {},
   "outputs": [
    {
     "data": {
      "image/png": "[encoded data removed]",
      "text/plain": [
       "<Figure size 640x480 with 1 Axes>"
      ]
     },
     "metadata": {},
     "output_type": "display_data"
    }
   ],
   "source": [
    "#bar rplot\n",
    "c=df['am'].value_counts()\n",
    "co=['b','y']\n",
    "plt.bar(c.index,c,color=co,width=0.1)\n",
    "plt.xticks([0,1],[\"0-Automatic\",\"1-manual\"])\n",
    "plt.xlabel(\"cars\")\n",
    "plt.ylabel(\"frequency\")\n",
    "plt.title(\"Frequncy distrubution of cars\")\n",
    "plt.show()"
   ]
  },
  {
   "cell_type": "code",
   "execution_count": 35,
   "id": "10249a25-9f1f-4fdb-8c6c-6d1fd2a44b76",
   "metadata": {},
   "outputs": [
    {
     "data": {
      "image/png": "[encoded data removed]",
      "text/plain": [
       "<Figure size 640x480 with 1 Axes>"
      ]
     },
     "metadata": {},
     "output_type": "display_data"
    }
   ],
   "source": [
    "sns.boxplot(mpg ,color='b')\n",
    "plt.title(\"mpg summary\")\n",
    "plt.show()"
   ]
  },
  {
   "cell_type": "code",
   "execution_count": null,
   "id": "4de05910-17ba-4cc5-b795-81f27bd17024",
   "metadata": {},
   "outputs": [],
   "source": []
  }
 ],
 "metadata": {
  "kernelspec": {
   "display_name": "Python 3 (ipykernel)",
   "language": "python",
   "name": "python3"
  },
  "language_info": {
   "codemirror_mode": {
    "name": "ipython",
    "version": 3
   },
   "file_extension": ".py",
   "mimetype": "text/x-python",
   "name": "python",
   "nbconvert_exporter": "python",
   "pygments_lexer": "ipython3",
   "version": "3.12.4"
  }
 },
 "nbformat": 4,
 "nbformat_minor": 5
}
